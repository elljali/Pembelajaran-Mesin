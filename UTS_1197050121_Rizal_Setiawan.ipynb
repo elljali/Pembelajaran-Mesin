{
  "nbformat": 4,
  "nbformat_minor": 0,
  "metadata": {
    "colab": {
      "name": "UTS 1197050121 Rizal Setiawan.ipynb",
      "provenance": [],
      "collapsed_sections": [],
      "include_colab_link": true
    },
    "kernelspec": {
      "name": "python3",
      "display_name": "Python 3"
    },
    "language_info": {
      "name": "python"
    }
  },
  "cells": [
    {
      "cell_type": "markdown",
      "metadata": {
        "id": "view-in-github",
        "colab_type": "text"
      },
      "source": [
        "<a href=\"https://colab.research.google.com/github/elljali/Pembelajaran-Mesin/blob/master/UTS_1197050121_Rizal_Setiawan.ipynb\" target=\"_parent\"><img src=\"https://colab.research.google.com/assets/colab-badge.svg\" alt=\"Open In Colab\"/></a>"
      ]
    },
    {
      "cell_type": "markdown",
      "source": [
        "# UTS Pembelajaran Mesin\n",
        "\n",
        "Nim, Nama, Kelas : Rizal Setiawan, 1197050121, D"
      ],
      "metadata": {
        "id": "T0vW0W91QMc0"
      }
    },
    {
      "cell_type": "markdown",
      "source": [
        "# Topik Mini Riset\n",
        "\n",
        "Klasifikasi Data Lulus Telat Waktu"
      ],
      "metadata": {
        "id": "76vqllHEQqQF"
      }
    },
    {
      "cell_type": "markdown",
      "source": [
        "# Business Understanding \n",
        "\n",
        "Tidak terdatanya mahasiswa yang lulus tepat waktu menyebabkan tidak terdatanya mahasiswa yang lulus tepat waktu dan yang lulus terlambat. Projects kali ini adalah pengklasifikasian data mahasiswa yang lulus telat waktu"
      ],
      "metadata": {
        "id": "rf1-LJBYRbTU"
      }
    },
    {
      "cell_type": "markdown",
      "source": [
        "# Data Preparation\n",
        "\n"
      ],
      "metadata": {
        "id": "pusc62noUc8x"
      }
    },
    {
      "cell_type": "code",
      "source": [
        "# This Python 3 environment comes with many helpful analytics libraries installed\n",
        "# It is defined by the kaggle/python Docker image: https://github.com/kaggle/docker-python\n",
        "# For example, here's several helpful packages to load\n",
        "\n",
        "import numpy as np # linear algebra\n",
        "import pandas as pd # data processing, CSV file I/O (e.g. pd.read_csv)\n",
        "from sklearn.model_selection import train_test_split\n",
        "from sklearn.model_selection import KFold\n",
        "from sklearn.model_selection import cross_val_score\n",
        "from sklearn.metrics import classification_report\n",
        "from sklearn.metrics import confusion_matrix\n",
        "from sklearn.metrics import accuracy_score\n",
        "from sklearn.linear_model import LogisticRegression\n",
        "from sklearn.tree import DecisionTreeClassifier\n",
        "from sklearn.neighbors import KNeighborsClassifier\n",
        "from sklearn.ensemble import RandomForestClassifier\n",
        "from sklearn.discriminant_analysis import LinearDiscriminantAnalysis\n",
        "from sklearn.naive_bayes import GaussianNB\n",
        "\n",
        "\n",
        "# Input data files are available in the read-only \"../input/\" directory\n",
        "# For example, running this (by clicking run or pressing Shift+Enter) will list all files under the input directory\n",
        "\n",
        "import os\n",
        "for dirname, _, filenames in os.walk('/kaggle/input'):\n",
        "    for filename in filenames:\n",
        "        print(os.path.join(dirname, filename))\n",
        "\n",
        "# You can write up to 20GB to the current directory (/kaggle/working/) that gets preserved as output when you create a version using \"Save & Run All\" \n",
        "# You can also write temporary files to /kaggle/temp/, but they won't be saved outside of the current session"
      ],
      "metadata": {
        "id": "M52mAXu4uyNB"
      },
      "execution_count": 40,
      "outputs": []
    },
    {
      "cell_type": "code",
      "source": [
        "url = 'https://github.com/elljali/Pembelajaran-Mesin/raw/master/data_lulus_tepat_waktu.csv'\n",
        "dataset=  pd.read_csv(url, sep=',')\n",
        "\n",
        "df.head()"
      ],
      "metadata": {
        "colab": {
          "base_uri": "https://localhost:8080/",
          "height": 206
        },
        "id": "oX6YPQ_su8wr",
        "outputId": "93aae3d7-bdc3-4df5-ae5f-fff4534a20db"
      },
      "execution_count": 41,
      "outputs": [
        {
          "output_type": "execute_result",
          "data": {
            "text/plain": [
              "    ip1   ip2   ip3   ip4  tepat\n",
              "0  2.30  1.97  1.80  1.56  Tidak\n",
              "1  1.81  1.68  1.57  1.86  Tidak\n",
              "2  3.07  3.00  2.75  3.21  Tidak\n",
              "3  2.71  2.33  2.61  1.98  Tidak\n",
              "4  3.17  3.02  3.28  2.96  Tidak"
            ],
            "text/html": [
              "\n",
              "  <div id=\"df-8da51f4d-552a-4598-9fbf-52ac62343b56\">\n",
              "    <div class=\"colab-df-container\">\n",
              "      <div>\n",
              "<style scoped>\n",
              "    .dataframe tbody tr th:only-of-type {\n",
              "        vertical-align: middle;\n",
              "    }\n",
              "\n",
              "    .dataframe tbody tr th {\n",
              "        vertical-align: top;\n",
              "    }\n",
              "\n",
              "    .dataframe thead th {\n",
              "        text-align: right;\n",
              "    }\n",
              "</style>\n",
              "<table border=\"1\" class=\"dataframe\">\n",
              "  <thead>\n",
              "    <tr style=\"text-align: right;\">\n",
              "      <th></th>\n",
              "      <th>ip1</th>\n",
              "      <th>ip2</th>\n",
              "      <th>ip3</th>\n",
              "      <th>ip4</th>\n",
              "      <th>tepat</th>\n",
              "    </tr>\n",
              "  </thead>\n",
              "  <tbody>\n",
              "    <tr>\n",
              "      <th>0</th>\n",
              "      <td>2.30</td>\n",
              "      <td>1.97</td>\n",
              "      <td>1.80</td>\n",
              "      <td>1.56</td>\n",
              "      <td>Tidak</td>\n",
              "    </tr>\n",
              "    <tr>\n",
              "      <th>1</th>\n",
              "      <td>1.81</td>\n",
              "      <td>1.68</td>\n",
              "      <td>1.57</td>\n",
              "      <td>1.86</td>\n",
              "      <td>Tidak</td>\n",
              "    </tr>\n",
              "    <tr>\n",
              "      <th>2</th>\n",
              "      <td>3.07</td>\n",
              "      <td>3.00</td>\n",
              "      <td>2.75</td>\n",
              "      <td>3.21</td>\n",
              "      <td>Tidak</td>\n",
              "    </tr>\n",
              "    <tr>\n",
              "      <th>3</th>\n",
              "      <td>2.71</td>\n",
              "      <td>2.33</td>\n",
              "      <td>2.61</td>\n",
              "      <td>1.98</td>\n",
              "      <td>Tidak</td>\n",
              "    </tr>\n",
              "    <tr>\n",
              "      <th>4</th>\n",
              "      <td>3.17</td>\n",
              "      <td>3.02</td>\n",
              "      <td>3.28</td>\n",
              "      <td>2.96</td>\n",
              "      <td>Tidak</td>\n",
              "    </tr>\n",
              "  </tbody>\n",
              "</table>\n",
              "</div>\n",
              "      <button class=\"colab-df-convert\" onclick=\"convertToInteractive('df-8da51f4d-552a-4598-9fbf-52ac62343b56')\"\n",
              "              title=\"Convert this dataframe to an interactive table.\"\n",
              "              style=\"display:none;\">\n",
              "        \n",
              "  <svg xmlns=\"http://www.w3.org/2000/svg\" height=\"24px\"viewBox=\"0 0 24 24\"\n",
              "       width=\"24px\">\n",
              "    <path d=\"M0 0h24v24H0V0z\" fill=\"none\"/>\n",
              "    <path d=\"M18.56 5.44l.94 2.06.94-2.06 2.06-.94-2.06-.94-.94-2.06-.94 2.06-2.06.94zm-11 1L8.5 8.5l.94-2.06 2.06-.94-2.06-.94L8.5 2.5l-.94 2.06-2.06.94zm10 10l.94 2.06.94-2.06 2.06-.94-2.06-.94-.94-2.06-.94 2.06-2.06.94z\"/><path d=\"M17.41 7.96l-1.37-1.37c-.4-.4-.92-.59-1.43-.59-.52 0-1.04.2-1.43.59L10.3 9.45l-7.72 7.72c-.78.78-.78 2.05 0 2.83L4 21.41c.39.39.9.59 1.41.59.51 0 1.02-.2 1.41-.59l7.78-7.78 2.81-2.81c.8-.78.8-2.07 0-2.86zM5.41 20L4 18.59l7.72-7.72 1.47 1.35L5.41 20z\"/>\n",
              "  </svg>\n",
              "      </button>\n",
              "      \n",
              "  <style>\n",
              "    .colab-df-container {\n",
              "      display:flex;\n",
              "      flex-wrap:wrap;\n",
              "      gap: 12px;\n",
              "    }\n",
              "\n",
              "    .colab-df-convert {\n",
              "      background-color: #E8F0FE;\n",
              "      border: none;\n",
              "      border-radius: 50%;\n",
              "      cursor: pointer;\n",
              "      display: none;\n",
              "      fill: #1967D2;\n",
              "      height: 32px;\n",
              "      padding: 0 0 0 0;\n",
              "      width: 32px;\n",
              "    }\n",
              "\n",
              "    .colab-df-convert:hover {\n",
              "      background-color: #E2EBFA;\n",
              "      box-shadow: 0px 1px 2px rgba(60, 64, 67, 0.3), 0px 1px 3px 1px rgba(60, 64, 67, 0.15);\n",
              "      fill: #174EA6;\n",
              "    }\n",
              "\n",
              "    [theme=dark] .colab-df-convert {\n",
              "      background-color: #3B4455;\n",
              "      fill: #D2E3FC;\n",
              "    }\n",
              "\n",
              "    [theme=dark] .colab-df-convert:hover {\n",
              "      background-color: #434B5C;\n",
              "      box-shadow: 0px 1px 3px 1px rgba(0, 0, 0, 0.15);\n",
              "      filter: drop-shadow(0px 1px 2px rgba(0, 0, 0, 0.3));\n",
              "      fill: #FFFFFF;\n",
              "    }\n",
              "  </style>\n",
              "\n",
              "      <script>\n",
              "        const buttonEl =\n",
              "          document.querySelector('#df-8da51f4d-552a-4598-9fbf-52ac62343b56 button.colab-df-convert');\n",
              "        buttonEl.style.display =\n",
              "          google.colab.kernel.accessAllowed ? 'block' : 'none';\n",
              "\n",
              "        async function convertToInteractive(key) {\n",
              "          const element = document.querySelector('#df-8da51f4d-552a-4598-9fbf-52ac62343b56');\n",
              "          const dataTable =\n",
              "            await google.colab.kernel.invokeFunction('convertToInteractive',\n",
              "                                                     [key], {});\n",
              "          if (!dataTable) return;\n",
              "\n",
              "          const docLinkHtml = 'Like what you see? Visit the ' +\n",
              "            '<a target=\"_blank\" href=https://colab.research.google.com/notebooks/data_table.ipynb>data table notebook</a>'\n",
              "            + ' to learn more about interactive tables.';\n",
              "          element.innerHTML = '';\n",
              "          dataTable['output_type'] = 'display_data';\n",
              "          await google.colab.output.renderOutput(dataTable, element);\n",
              "          const docLink = document.createElement('div');\n",
              "          docLink.innerHTML = docLinkHtml;\n",
              "          element.appendChild(docLink);\n",
              "        }\n",
              "      </script>\n",
              "    </div>\n",
              "  </div>\n",
              "  "
            ]
          },
          "metadata": {},
          "execution_count": 41
        }
      ]
    },
    {
      "cell_type": "code",
      "source": [
        "dataset.head()"
      ],
      "metadata": {
        "colab": {
          "base_uri": "https://localhost:8080/",
          "height": 206
        },
        "id": "yyRabn-lxLSE",
        "outputId": "59ed5dac-4626-44a7-8332-efa434640281"
      },
      "execution_count": 42,
      "outputs": [
        {
          "output_type": "execute_result",
          "data": {
            "text/plain": [
              "    ip1   ip2   ip3   ip4  tepat\n",
              "0  2.30  1.97  1.80  1.56  Tidak\n",
              "1  1.81  1.68  1.57  1.86  Tidak\n",
              "2  3.07  3.00  2.75  3.21  Tidak\n",
              "3  2.71  2.33  2.61  1.98  Tidak\n",
              "4  3.17  3.02  3.28  2.96  Tidak"
            ],
            "text/html": [
              "\n",
              "  <div id=\"df-f127308c-c73d-4c78-8b65-b30165ecf9cf\">\n",
              "    <div class=\"colab-df-container\">\n",
              "      <div>\n",
              "<style scoped>\n",
              "    .dataframe tbody tr th:only-of-type {\n",
              "        vertical-align: middle;\n",
              "    }\n",
              "\n",
              "    .dataframe tbody tr th {\n",
              "        vertical-align: top;\n",
              "    }\n",
              "\n",
              "    .dataframe thead th {\n",
              "        text-align: right;\n",
              "    }\n",
              "</style>\n",
              "<table border=\"1\" class=\"dataframe\">\n",
              "  <thead>\n",
              "    <tr style=\"text-align: right;\">\n",
              "      <th></th>\n",
              "      <th>ip1</th>\n",
              "      <th>ip2</th>\n",
              "      <th>ip3</th>\n",
              "      <th>ip4</th>\n",
              "      <th>tepat</th>\n",
              "    </tr>\n",
              "  </thead>\n",
              "  <tbody>\n",
              "    <tr>\n",
              "      <th>0</th>\n",
              "      <td>2.30</td>\n",
              "      <td>1.97</td>\n",
              "      <td>1.80</td>\n",
              "      <td>1.56</td>\n",
              "      <td>Tidak</td>\n",
              "    </tr>\n",
              "    <tr>\n",
              "      <th>1</th>\n",
              "      <td>1.81</td>\n",
              "      <td>1.68</td>\n",
              "      <td>1.57</td>\n",
              "      <td>1.86</td>\n",
              "      <td>Tidak</td>\n",
              "    </tr>\n",
              "    <tr>\n",
              "      <th>2</th>\n",
              "      <td>3.07</td>\n",
              "      <td>3.00</td>\n",
              "      <td>2.75</td>\n",
              "      <td>3.21</td>\n",
              "      <td>Tidak</td>\n",
              "    </tr>\n",
              "    <tr>\n",
              "      <th>3</th>\n",
              "      <td>2.71</td>\n",
              "      <td>2.33</td>\n",
              "      <td>2.61</td>\n",
              "      <td>1.98</td>\n",
              "      <td>Tidak</td>\n",
              "    </tr>\n",
              "    <tr>\n",
              "      <th>4</th>\n",
              "      <td>3.17</td>\n",
              "      <td>3.02</td>\n",
              "      <td>3.28</td>\n",
              "      <td>2.96</td>\n",
              "      <td>Tidak</td>\n",
              "    </tr>\n",
              "  </tbody>\n",
              "</table>\n",
              "</div>\n",
              "      <button class=\"colab-df-convert\" onclick=\"convertToInteractive('df-f127308c-c73d-4c78-8b65-b30165ecf9cf')\"\n",
              "              title=\"Convert this dataframe to an interactive table.\"\n",
              "              style=\"display:none;\">\n",
              "        \n",
              "  <svg xmlns=\"http://www.w3.org/2000/svg\" height=\"24px\"viewBox=\"0 0 24 24\"\n",
              "       width=\"24px\">\n",
              "    <path d=\"M0 0h24v24H0V0z\" fill=\"none\"/>\n",
              "    <path d=\"M18.56 5.44l.94 2.06.94-2.06 2.06-.94-2.06-.94-.94-2.06-.94 2.06-2.06.94zm-11 1L8.5 8.5l.94-2.06 2.06-.94-2.06-.94L8.5 2.5l-.94 2.06-2.06.94zm10 10l.94 2.06.94-2.06 2.06-.94-2.06-.94-.94-2.06-.94 2.06-2.06.94z\"/><path d=\"M17.41 7.96l-1.37-1.37c-.4-.4-.92-.59-1.43-.59-.52 0-1.04.2-1.43.59L10.3 9.45l-7.72 7.72c-.78.78-.78 2.05 0 2.83L4 21.41c.39.39.9.59 1.41.59.51 0 1.02-.2 1.41-.59l7.78-7.78 2.81-2.81c.8-.78.8-2.07 0-2.86zM5.41 20L4 18.59l7.72-7.72 1.47 1.35L5.41 20z\"/>\n",
              "  </svg>\n",
              "      </button>\n",
              "      \n",
              "  <style>\n",
              "    .colab-df-container {\n",
              "      display:flex;\n",
              "      flex-wrap:wrap;\n",
              "      gap: 12px;\n",
              "    }\n",
              "\n",
              "    .colab-df-convert {\n",
              "      background-color: #E8F0FE;\n",
              "      border: none;\n",
              "      border-radius: 50%;\n",
              "      cursor: pointer;\n",
              "      display: none;\n",
              "      fill: #1967D2;\n",
              "      height: 32px;\n",
              "      padding: 0 0 0 0;\n",
              "      width: 32px;\n",
              "    }\n",
              "\n",
              "    .colab-df-convert:hover {\n",
              "      background-color: #E2EBFA;\n",
              "      box-shadow: 0px 1px 2px rgba(60, 64, 67, 0.3), 0px 1px 3px 1px rgba(60, 64, 67, 0.15);\n",
              "      fill: #174EA6;\n",
              "    }\n",
              "\n",
              "    [theme=dark] .colab-df-convert {\n",
              "      background-color: #3B4455;\n",
              "      fill: #D2E3FC;\n",
              "    }\n",
              "\n",
              "    [theme=dark] .colab-df-convert:hover {\n",
              "      background-color: #434B5C;\n",
              "      box-shadow: 0px 1px 3px 1px rgba(0, 0, 0, 0.15);\n",
              "      filter: drop-shadow(0px 1px 2px rgba(0, 0, 0, 0.3));\n",
              "      fill: #FFFFFF;\n",
              "    }\n",
              "  </style>\n",
              "\n",
              "      <script>\n",
              "        const buttonEl =\n",
              "          document.querySelector('#df-f127308c-c73d-4c78-8b65-b30165ecf9cf button.colab-df-convert');\n",
              "        buttonEl.style.display =\n",
              "          google.colab.kernel.accessAllowed ? 'block' : 'none';\n",
              "\n",
              "        async function convertToInteractive(key) {\n",
              "          const element = document.querySelector('#df-f127308c-c73d-4c78-8b65-b30165ecf9cf');\n",
              "          const dataTable =\n",
              "            await google.colab.kernel.invokeFunction('convertToInteractive',\n",
              "                                                     [key], {});\n",
              "          if (!dataTable) return;\n",
              "\n",
              "          const docLinkHtml = 'Like what you see? Visit the ' +\n",
              "            '<a target=\"_blank\" href=https://colab.research.google.com/notebooks/data_table.ipynb>data table notebook</a>'\n",
              "            + ' to learn more about interactive tables.';\n",
              "          element.innerHTML = '';\n",
              "          dataTable['output_type'] = 'display_data';\n",
              "          await google.colab.output.renderOutput(dataTable, element);\n",
              "          const docLink = document.createElement('div');\n",
              "          docLink.innerHTML = docLinkHtml;\n",
              "          element.appendChild(docLink);\n",
              "        }\n",
              "      </script>\n",
              "    </div>\n",
              "  </div>\n",
              "  "
            ]
          },
          "metadata": {},
          "execution_count": 42
        }
      ]
    },
    {
      "cell_type": "code",
      "source": [
        "dataset.shape"
      ],
      "metadata": {
        "colab": {
          "base_uri": "https://localhost:8080/",
          "height": 0
        },
        "id": "PFu9JGzrwzth",
        "outputId": "45457677-6f70-4a9f-a66b-c57ace21680c"
      },
      "execution_count": 43,
      "outputs": [
        {
          "output_type": "execute_result",
          "data": {
            "text/plain": [
              "(1687, 5)"
            ]
          },
          "metadata": {},
          "execution_count": 43
        }
      ]
    },
    {
      "cell_type": "code",
      "source": [
        "dataset.info()"
      ],
      "metadata": {
        "colab": {
          "base_uri": "https://localhost:8080/",
          "height": 0
        },
        "id": "BwdpxZxsxSTq",
        "outputId": "4a6888cf-5dc4-4485-8772-d426e109ab01"
      },
      "execution_count": 44,
      "outputs": [
        {
          "output_type": "stream",
          "name": "stdout",
          "text": [
            "<class 'pandas.core.frame.DataFrame'>\n",
            "RangeIndex: 1687 entries, 0 to 1686\n",
            "Data columns (total 5 columns):\n",
            " #   Column  Non-Null Count  Dtype  \n",
            "---  ------  --------------  -----  \n",
            " 0   ip1     1687 non-null   float64\n",
            " 1   ip2     1687 non-null   float64\n",
            " 2   ip3     1687 non-null   float64\n",
            " 3   ip4     1687 non-null   float64\n",
            " 4   tepat   1687 non-null   object \n",
            "dtypes: float64(4), object(1)\n",
            "memory usage: 66.0+ KB\n"
          ]
        }
      ]
    },
    {
      "cell_type": "code",
      "source": [
        "dataset.isnull().values.any()"
      ],
      "metadata": {
        "colab": {
          "base_uri": "https://localhost:8080/",
          "height": 0
        },
        "id": "BESB7RAzxWow",
        "outputId": "698da047-8f8d-4b31-f467-19257b6fe673"
      },
      "execution_count": 45,
      "outputs": [
        {
          "output_type": "execute_result",
          "data": {
            "text/plain": [
              "False"
            ]
          },
          "metadata": {},
          "execution_count": 45
        }
      ]
    },
    {
      "cell_type": "markdown",
      "source": [
        "# Modeling\n",
        "\n",
        "Membahas mengenai proses Fiting Model, set parameter-parameter dll."
      ],
      "metadata": {
        "id": "bpQzDFMSYQLq"
      }
    },
    {
      "cell_type": "code",
      "source": [
        "ket = {\"Ya\" : 0, \"Tidak\" : 1}\n",
        "dataset[\"tepat\"] = dataset[\"tepat\"].map(ket)"
      ],
      "metadata": {
        "id": "7JqjV-NGxYgY"
      },
      "execution_count": 46,
      "outputs": []
    },
    {
      "cell_type": "code",
      "source": [
        "dataset['tepat'].value_counts()"
      ],
      "metadata": {
        "colab": {
          "base_uri": "https://localhost:8080/",
          "height": 0
        },
        "id": "ep7HBPUNxgqX",
        "outputId": "4f7cf740-ddcc-4298-9021-c7dc38f64a43"
      },
      "execution_count": 47,
      "outputs": [
        {
          "output_type": "execute_result",
          "data": {
            "text/plain": [
              "0    1552\n",
              "1     135\n",
              "Name: tepat, dtype: int64"
            ]
          },
          "metadata": {},
          "execution_count": 47
        }
      ]
    },
    {
      "cell_type": "code",
      "source": [
        "print('Ya', round(dataset['tepat'].value_counts()[0]/len(dataset) * 100,2), '% of the dataset')\n",
        "print('Tidak', round(dataset['tepat'].value_counts()[1]/len(dataset) * 100,2), '% of the dataset')"
      ],
      "metadata": {
        "colab": {
          "base_uri": "https://localhost:8080/",
          "height": 0
        },
        "id": "QWgS4LW-xjP_",
        "outputId": "0b18308e-203c-479e-db95-34737f2e21cf"
      },
      "execution_count": 48,
      "outputs": [
        {
          "output_type": "stream",
          "name": "stdout",
          "text": [
            "Ya 92.0 % of the dataset\n",
            "Tidak 8.0 % of the dataset\n"
          ]
        }
      ]
    },
    {
      "cell_type": "code",
      "source": [
        "import seaborn as sns\n",
        "import matplotlib.pyplot as plt\n",
        "\n",
        "colors = [\"#0101DF\", \"#DF0101\"]\n",
        "\n",
        "sns.countplot('tepat', data=dataset, palette=colors)\n",
        "plt.title('Class Distributions \\n (0: YA || 1: Tidak)', fontsize=14)"
      ],
      "metadata": {
        "colab": {
          "base_uri": "https://localhost:8080/",
          "height": 385
        },
        "id": "WCbOKdNexnrr",
        "outputId": "9cf8425b-22af-4710-9f54-8ecbf8e08fcd"
      },
      "execution_count": 52,
      "outputs": [
        {
          "output_type": "stream",
          "name": "stderr",
          "text": [
            "/usr/local/lib/python3.7/dist-packages/seaborn/_decorators.py:43: FutureWarning: Pass the following variable as a keyword arg: x. From version 0.12, the only valid positional argument will be `data`, and passing other arguments without an explicit keyword will result in an error or misinterpretation.\n",
            "  FutureWarning\n"
          ]
        },
        {
          "output_type": "execute_result",
          "data": {
            "text/plain": [
              "Text(0.5, 1.0, 'Class Distributions \\n (0: YA || 1: Tidak)')"
            ]
          },
          "metadata": {},
          "execution_count": 52
        },
        {
          "output_type": "display_data",
          "data": {
            "text/plain": [
              "<Figure size 432x288 with 1 Axes>"
            ],
            "image/png": "[encoded data removed]"
          },
          "metadata": {
            "needs_background": "light"
          }
        }
      ]
    },
    {
      "cell_type": "markdown",
      "source": [
        "**Dataset belum balance terliat perbedaan diagram 0 dan 1**\n",
        "kita Resampling datanya. Resampling ada 2 :\n",
        "*   Random Oversampling: Randomly duplicate examples in the minority class.\n",
        "*   Random Undersampling: Randomly delete examples in the majority class.\n",
        "\n",
        "disini kita menggunakan random over sampling\n",
        "\n",
        "Referensi Resampling : [Resampling dataset](https://www.kaggle.com/code/rafjaa/resampling-strategies-for-imbalanced-datasets/notebook)"
      ],
      "metadata": {
        "id": "z9P6EEBKydm9"
      }
    },
    {
      "cell_type": "code",
      "source": [
        "# Class count\n",
        "count_class_0, count_class_1 = dataset.tepat.value_counts()\n",
        "\n",
        "# Divide by class\n",
        "df_class_0 = dataset[dataset['tepat'] == 0]\n",
        "df_class_1 = dataset[dataset['tepat'] == 1]"
      ],
      "metadata": {
        "id": "UleFJkNYyWSn"
      },
      "execution_count": 53,
      "outputs": []
    },
    {
      "cell_type": "code",
      "source": [
        "df_class_1_over = df_class_1.sample(count_class_0, replace=True)\n",
        "df_test_over = pd.concat([df_class_0, df_class_1_over], axis=0)\n",
        "\n",
        "print('Random over-sampling:')\n",
        "print(df_test_over.tepat.value_counts())\n",
        "\n",
        "df_test_over.tepat.value_counts().plot(kind='bar', title='Count (tepat)');"
      ],
      "metadata": {
        "colab": {
          "base_uri": "https://localhost:8080/",
          "height": 347
        },
        "id": "kybi-VQOzZCI",
        "outputId": "cc1db4fa-9e22-4c17-92bf-242b30eb195e"
      },
      "execution_count": 54,
      "outputs": [
        {
          "output_type": "stream",
          "name": "stdout",
          "text": [
            "Random over-sampling:\n",
            "0    1552\n",
            "1    1552\n",
            "Name: tepat, dtype: int64\n"
          ]
        },
        {
          "output_type": "display_data",
          "data": {
            "text/plain": [
              "<Figure size 432x288 with 1 Axes>"
            ],
            "image/png": "[encoded data removed]"
          },
          "metadata": {
            "needs_background": "light"
          }
        }
      ]
    },
    {
      "cell_type": "code",
      "source": [
        "df_test_over.tepat.value_counts()"
      ],
      "metadata": {
        "colab": {
          "base_uri": "https://localhost:8080/",
          "height": 0
        },
        "id": "YsWoscYPzceu",
        "outputId": "609aa952-f48e-4229-9a52-39141612130c"
      },
      "execution_count": 55,
      "outputs": [
        {
          "output_type": "execute_result",
          "data": {
            "text/plain": [
              "0    1552\n",
              "1    1552\n",
              "Name: tepat, dtype: int64"
            ]
          },
          "metadata": {},
          "execution_count": 55
        }
      ]
    },
    {
      "cell_type": "markdown",
      "source": [
        "**nah sekarang dataset diagram 0 dan 1 sudah balance**"
      ],
      "metadata": {
        "id": "1u_tZRbZzh0k"
      }
    },
    {
      "cell_type": "code",
      "source": [
        "x = df_test_over.iloc[:, :-1].values\n",
        "y = df_test_over.iloc[:, -1].values"
      ],
      "metadata": {
        "id": "Hk8z_BX5zsnl"
      },
      "execution_count": 56,
      "outputs": []
    },
    {
      "cell_type": "code",
      "source": [
        "from sklearn.model_selection import train_test_split\n",
        "\n",
        "validation_size = 0.20\n",
        "num_trees = 100\n",
        "seed = 5\n",
        "x_train, x_test, y_train, y_test=train_test_split(x, y, test_size=validation_size, random_state=seed)"
      ],
      "metadata": {
        "id": "-r1RAiaKzvvV"
      },
      "execution_count": 57,
      "outputs": []
    },
    {
      "cell_type": "markdown",
      "source": [
        "# Evaluasi\n",
        "\n",
        "Membahas mengenai hasil pengujian terhadap model."
      ],
      "metadata": {
        "id": "zJibL6J1YsEf"
      }
    },
    {
      "cell_type": "code",
      "source": [
        "rf = RandomForestClassifier(n_estimators=num_trees, random_state=seed)\n",
        "rf.fit(x_train, y_train)\n",
        "predictions = rf.predict(x_test)\n",
        "print(accuracy_score(y_test, predictions))\n",
        "print(confusion_matrix(y_test, predictions))\n",
        "print(classification_report(y_test, predictions))"
      ],
      "metadata": {
        "colab": {
          "base_uri": "https://localhost:8080/",
          "height": 0
        },
        "id": "rusdy6tJz0Er",
        "outputId": "75422e57-db11-4086-bc02-f34c166d0bea"
      },
      "execution_count": 58,
      "outputs": [
        {
          "output_type": "stream",
          "name": "stdout",
          "text": [
            "0.9790660225442834\n",
            "[[296  13]\n",
            " [  0 312]]\n",
            "              precision    recall  f1-score   support\n",
            "\n",
            "           0       1.00      0.96      0.98       309\n",
            "           1       0.96      1.00      0.98       312\n",
            "\n",
            "    accuracy                           0.98       621\n",
            "   macro avg       0.98      0.98      0.98       621\n",
            "weighted avg       0.98      0.98      0.98       621\n",
            "\n"
          ]
        }
      ]
    },
    {
      "cell_type": "code",
      "source": [
        "# ip1 = 3.17\n",
        "# ip2 = 3.02\n",
        "# ip3 = 3.28\n",
        "# ip4 = 2.96\n",
        "\n",
        "prediction_rf=rf.predict([[3.17,3.02,3.28,2.96]])\n",
        "score1 = rf.score(x_test, y_test)\n",
        "if prediction_rf[0] == 0:\n",
        "    pred = \"Tepat Waktu\"\n",
        "else:\n",
        "    pred = \"Tidak Tepat Waktu\"\n",
        "print('Prediksi :',pred)\n",
        "print(\"Test score: {0:.2f} %\".format(100 * score1)) "
      ],
      "metadata": {
        "colab": {
          "base_uri": "https://localhost:8080/",
          "height": 0
        },
        "id": "4Ehw0LhI2Djk",
        "outputId": "fbb9bfcf-318f-4867-c4e4-e13191a2b043"
      },
      "execution_count": 59,
      "outputs": [
        {
          "output_type": "stream",
          "name": "stdout",
          "text": [
            "Prediksi : Tidak Tepat Waktu\n",
            "Test score: 97.91 %\n"
          ]
        }
      ]
    },
    {
      "cell_type": "code",
      "source": [
        "prediction_rf=rf.predict([[3.07,3.04,3.39,3.55]])\n",
        "score1 = rf.score(x_test, y_test)\n",
        "if prediction_rf[0] == 0:\n",
        "    pred = \"Tepat Waktu\"\n",
        "else:\n",
        "    pred = \"Tidak Tepat Waktu\"\n",
        "print('Prediksi :',pred)\n",
        "print(\"Test score: {0:.2f} %\".format(100 * score1)) "
      ],
      "metadata": {
        "colab": {
          "base_uri": "https://localhost:8080/",
          "height": 0
        },
        "id": "Gq4NP8-C2LMs",
        "outputId": "c9da723c-b33e-48c8-917e-e75003cc0f55"
      },
      "execution_count": 60,
      "outputs": [
        {
          "output_type": "stream",
          "name": "stdout",
          "text": [
            "Prediksi : Tepat Waktu\n",
            "Test score: 97.91 %\n"
          ]
        }
      ]
    }
  ]
}